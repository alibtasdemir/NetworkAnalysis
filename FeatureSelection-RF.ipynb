{
 "cells": [
  {
   "cell_type": "markdown",
   "metadata": {},
   "source": [
    "# FEATURE SELECTION WITH RANDOM FOREST"
   ]
  },
  {
   "cell_type": "code",
   "execution_count": 1,
   "metadata": {},
   "outputs": [],
   "source": [
    "import pandas as pd\n",
    "import numpy as np\n",
    "from sklearn.ensemble import RandomForestClassifier\n",
    "from sklearn.feature_selection import SelectFromModel\n",
    "from sklearn.model_selection import train_test_split\n",
    "import matplotlib.pyplot as plt "
   ]
  },
  {
   "cell_type": "code",
   "execution_count": 2,
   "metadata": {},
   "outputs": [],
   "source": [
    "# Reading feature vector and removing unnamed column\n",
    "df = pd.read_csv('__Random_Features\\\\features_random_bn-mouse_brain_1_final.csv').drop(columns='Unnamed: 0')\n",
    "\n",
    "# Removing filenames\n",
    "df = df.iloc[:, 1:]\n",
    "\n",
    "# Removing not connected patterns\n",
    "df = df.drop(['f1', 'f2', 'f3', 'f4', 'f5', 'f6', 'f7', 'f8', 'f9', 'f10', 'f11', 'f12', 'f13'], 1)"
   ]
  },
  {
   "cell_type": "code",
   "execution_count": 3,
   "metadata": {},
   "outputs": [],
   "source": [
    "# Prepare data to train. \n",
    "# X: Independent values\n",
    "# y: Target values (Categories)\n",
    "def prepareData(df, normalize=False):\n",
    "    X = np.array(df.iloc[:, :-1])\n",
    "    if normalize:\n",
    "        return (X - X.mean()) / (X.max() - X.min()), np.array(df['Categories'])\n",
    "    return X, np.array(df['Categories'])"
   ]
  },
  {
   "cell_type": "code",
   "execution_count": 4,
   "metadata": {},
   "outputs": [],
   "source": [
    "X, y = prepareData(df)"
   ]
  },
  {
   "cell_type": "code",
   "execution_count": 5,
   "metadata": {},
   "outputs": [],
   "source": [
    "X_train,X_test,y_train,y_test = train_test_split(X,y,test_size=0.3)"
   ]
  },
  {
   "cell_type": "code",
   "execution_count": 6,
   "metadata": {},
   "outputs": [
    {
     "data": {
      "text/plain": [
       "SelectFromModel(estimator=RandomForestClassifier(bootstrap=True,\n",
       "                                                 class_weight=None,\n",
       "                                                 criterion='gini',\n",
       "                                                 max_depth=None,\n",
       "                                                 max_features='auto',\n",
       "                                                 max_leaf_nodes=None,\n",
       "                                                 min_impurity_decrease=0.0,\n",
       "                                                 min_impurity_split=None,\n",
       "                                                 min_samples_leaf=1,\n",
       "                                                 min_samples_split=2,\n",
       "                                                 min_weight_fraction_leaf=0.0,\n",
       "                                                 n_estimators=100, n_jobs=None,\n",
       "                                                 oob_score=False,\n",
       "                                                 random_state=None, verbose=0,\n",
       "                                                 warm_start=False),\n",
       "                max_features=None, norm_order=1, prefit=False, threshold=None)"
      ]
     },
     "execution_count": 6,
     "metadata": {},
     "output_type": "execute_result"
    }
   ],
   "source": [
    "# Creating a random forest classifier with 100 estimator\n",
    "# to select the most important features\n",
    "\n",
    "sel = SelectFromModel(RandomForestClassifier(n_estimators = 100))\n",
    "sel.fit(X_train, y_train)"
   ]
  },
  {
   "cell_type": "code",
   "execution_count": 7,
   "metadata": {},
   "outputs": [
    {
     "data": {
      "text/plain": [
       "array([False, False,  True,  True,  True,  True,  True, False, False,\n",
       "        True, False, False,  True, False, False,  True,  True,  True,\n",
       "        True, False,  True,  True,  True, False,  True,  True,  True,\n",
       "        True,  True,  True, False, False])"
      ]
     },
     "execution_count": 7,
     "metadata": {},
     "output_type": "execute_result"
    }
   ],
   "source": [
    "# The feature columns which has importance more than mean has\n",
    "# True value, others has False\n",
    "\n",
    "sel.get_support()"
   ]
  },
  {
   "cell_type": "code",
   "execution_count": 8,
   "metadata": {},
   "outputs": [
    {
     "data": {
      "text/plain": [
       "20"
      ]
     },
     "execution_count": 8,
     "metadata": {},
     "output_type": "execute_result"
    }
   ],
   "source": [
    "# The number of the important features (which has importance more than mean)\n",
    "\n",
    "selected_feat= df.iloc[:,:-1].columns[(sel.get_support())]\n",
    "len(selected_feat)"
   ]
  },
  {
   "cell_type": "code",
   "execution_count": 9,
   "metadata": {},
   "outputs": [
    {
     "name": "stdout",
     "output_type": "stream",
     "text": [
      "Index(['Density', 'Max. Degree', 'Avg. Degree', 'Max. k-core',\n",
      "       'Avg. Clustering Coeff.', 'Total Triangles', 'f15', 'f18', 'f19', 'f20',\n",
      "       'f21', 'f23', 'f24', 'f25', 'f27', 'f28', 'f29', 'f30', 'f31', 'f32'],\n",
      "      dtype='object')\n"
     ]
    }
   ],
   "source": [
    "# Names of that features\n",
    "print(selected_feat)"
   ]
  },
  {
   "cell_type": "code",
   "execution_count": 10,
   "metadata": {},
   "outputs": [
    {
     "data": {
      "text/plain": [
       "Vertex                         0.000000\n",
       "Edges                          0.022745\n",
       "Density                        0.046892\n",
       "Max. Degree                    0.032027\n",
       "Avg. Degree                    0.036589\n",
       "Max. k-core                    0.033479\n",
       "Avg. Clustering Coeff.         0.043733\n",
       "Diameter                       0.000000\n",
       "Average Path Length            0.022821\n",
       "Total Triangles                0.042836\n",
       "Avg. Eigenvector Centrality    0.020120\n",
       "f14                            0.030186\n",
       "f15                            0.035945\n",
       "f16                            0.006362\n",
       "f17                            0.019533\n",
       "f18                            0.040176\n",
       "f19                            0.039967\n",
       "f20                            0.036269\n",
       "f21                            0.049282\n",
       "f22                            0.013587\n",
       "f23                            0.046479\n",
       "f24                            0.033717\n",
       "f25                            0.054705\n",
       "f26                            0.020306\n",
       "f27                            0.033322\n",
       "f28                            0.043545\n",
       "f29                            0.037049\n",
       "f30                            0.033692\n",
       "f31                            0.034765\n",
       "f32                            0.043632\n",
       "f33                            0.026185\n",
       "f34                            0.020056\n",
       "dtype: float64"
      ]
     },
     "execution_count": 10,
     "metadata": {},
     "output_type": "execute_result"
    }
   ],
   "source": [
    "# Feature importance values.\n",
    "pd.Series(sel.estimator_.feature_importances_.ravel(), index=df.iloc[:,:-1].columns)"
   ]
  },
  {
   "cell_type": "markdown",
   "metadata": {},
   "source": [
    "## Result"
   ]
  },
  {
   "attachments": {},
   "cell_type": "markdown",
   "metadata": {},
   "source": [
    "With random forest classifier we built a tree and train that tree with our feature vector. As a result, there are some features that our classifier defined them with smaller coefficients. These features are relatively 'weak' features. \n",
    "\n",
    "They are:\n",
    "\n",
    "- Vertex\n",
    "- Edges\n",
    "- Diameter\n",
    "- Average Path Length\n",
    "- Avg. Eigenvector Centrality\n",
    "- f14 (4-star)\n",
    "- f16 (4-path)\n",
    "- f17 (Forktailed-tri)\n",
    "- f22 (Hourglass)\n",
    "- f26 (3-wedge-col\t)\n",
    "- f33 (Almost-5-clique)\n",
    "- f34 (5-clique)"
   ]
  }
 ],
 "metadata": {
  "kernelspec": {
   "display_name": "Python 3",
   "language": "python",
   "name": "python3"
  },
  "language_info": {
   "codemirror_mode": {
    "name": "ipython",
    "version": 3
   },
   "file_extension": ".py",
   "mimetype": "text/x-python",
   "name": "python",
   "nbconvert_exporter": "python",
   "pygments_lexer": "ipython3",
   "version": "3.7.3"
  }
 },
 "nbformat": 4,
 "nbformat_minor": 2
}
