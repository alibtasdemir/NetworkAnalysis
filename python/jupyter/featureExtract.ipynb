{
 "cells": [
  {
   "cell_type": "code",
   "execution_count": 1,
   "metadata": {},
   "outputs": [],
   "source": [
    "import networkx as nx\n",
    "import numpy as np\n",
    "import pandas as pd\n",
    "import os\n",
    "import glob"
   ]
  },
  {
   "cell_type": "code",
   "execution_count": 2,
   "metadata": {},
   "outputs": [],
   "source": [
    "graph_folder = os.path.abspath(\"../graphs\")\n",
    "file_pattern = os.path.join(graph_folder, \"*.edges\")"
   ]
  },
  {
   "cell_type": "code",
   "execution_count": 3,
   "metadata": {},
   "outputs": [],
   "source": [
    "feature_categories = np.array([\"Name\", \"Vertex\", \"Edges\", \"Density\", \"Max. Degree\", \"Avg. Degree\", \"Max. k-core\", \"Avg. Clustering Coeff.\",\n",
    "                      \"Diameter\", \"Avg. Path Length\", \"Total Triangles\", \"Avg. Eigenvector Centrality\"])"
   ]
  },
  {
   "cell_type": "code",
   "execution_count": 4,
   "metadata": {},
   "outputs": [],
   "source": [
    "def getFeatureVect(G, name=\"NoName\"):\n",
    "    values = []\n",
    "    degree_list = np.array(list(G.degree()), dtype=int)[:,1]\n",
    "    values.append(name)\n",
    "    values.append(nx.number_of_nodes(G))\n",
    "    values.append(nx.number_of_edges(G))\n",
    "    values.append(nx.density(G))\n",
    "    values.append(np.max(degree_list))\n",
    "    values.append(np.mean(degree_list))\n",
    "    values.append(max(list(nx.core_number(G).values())))\n",
    "    print(\"Halfway Done!\")\n",
    "    values.append(nx.average_clustering(G))\n",
    "    values.append(nx.diameter(G))\n",
    "    print(\"Almost finished!\")\n",
    "    values.append(nx.average_shortest_path_length(G))\n",
    "    print(\"Making final Calculations!\")\n",
    "    values.append(sum(list(nx.triangles(G).values()))/3)\n",
    "    print(\"Last one.\")\n",
    "    values.append(np.mean(np.array(list(nx.eigenvector_centrality_numpy(G).values()))))\n",
    "    return np.array(values)"
   ]
  },
  {
   "cell_type": "code",
   "execution_count": 15,
   "metadata": {
    "scrolled": true
   },
   "outputs": [
    {
     "name": "stdout",
     "output_type": "stream",
     "text": [
      "D:\\Codes\\419\\Algoritms\\python\\graphs\\test.edges\n",
      "Halfway Done!\n",
      "Almost finished!\n",
      "Making final Calculations!\n",
      "Last one.\n",
      "test.edges --- Extracted\n",
      "D:\\Codes\\419\\Algoritms\\python\\graphs\\web-polblogs.edges\n",
      "Halfway Done!\n",
      "Almost finished!\n",
      "Making final Calculations!\n",
      "Last one.\n",
      "web-polblogs.edges --- Extracted\n"
     ]
    }
   ],
   "source": [
    "df = pd.DataFrame(columns=feature_categories)\n",
    "i = 0\n",
    "\n",
    "for filename in glob.glob(file_pattern):\n",
    "    print(filename)\n",
    "    G = nx.read_edgelist(filename)\n",
    "    file = os.path.basename(filename)\n",
    "    G = nx.read_edgelist(filename)\n",
    "    data = getFeatureVect(G, file)\n",
    "    df.loc[i] = data\n",
    "    i+=1\n",
    "    del(G)\n",
    "    print(\"%s --- Extracted\"%(file))"
   ]
  },
  {
   "cell_type": "code",
   "execution_count": 19,
   "metadata": {},
   "outputs": [],
   "source": [
    "with open(\"features.csv\", \"w\", newline='') as f:\n",
    "    f.write(df.to_csv())\n",
    "    f.close()"
   ]
  }
 ],
 "metadata": {
  "kernelspec": {
   "display_name": "Python 3",
   "language": "python",
   "name": "python3"
  },
  "language_info": {
   "codemirror_mode": {
    "name": "ipython",
    "version": 3
   },
   "file_extension": ".py",
   "mimetype": "text/x-python",
   "name": "python",
   "nbconvert_exporter": "python",
   "pygments_lexer": "ipython3",
   "version": "3.7.3"
  }
 },
 "nbformat": 4,
 "nbformat_minor": 2
}
